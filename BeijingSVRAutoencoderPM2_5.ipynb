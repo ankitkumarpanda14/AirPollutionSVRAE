{
  "nbformat": 4,
  "nbformat_minor": 0,
  "metadata": {
    "colab": {
      "name": "BeijingSVRPM2.5.ipynb",
      "provenance": [],
      "collapsed_sections": []
    },
    "kernelspec": {
      "name": "python3",
      "display_name": "Python 3"
    }
  },
  "cells": [
    {
      "cell_type": "code",
      "metadata": {
        "id": "Orc_tThRxQbA",
        "colab_type": "code",
        "colab": {}
      },
      "source": [
        "import pandas as pd          \n",
        "import numpy as np          # For mathematical calculations\n",
        "import matplotlib.pyplot as plt  # For plotting graphs\n",
        "from datetime import datetime    # To access datetime\n",
        "from pandas import Series        # To work on series\n",
        "import matplotlib\n",
        "import warnings                   # To ignore the warnings\n",
        "warnings.filterwarnings(\"ignore\")\n",
        "from math import sqrt\n",
        "from sklearn.metrics import mean_squared_error\n",
        "from numpy import array\n",
        "from sklearn.preprocessing import LabelEncoder\n",
        "import scipy.stats as stats"
      ],
      "execution_count": 150,
      "outputs": []
    },
    {
      "cell_type": "code",
      "metadata": {
        "id": "R3PeUnunxcb9",
        "colab_type": "code",
        "colab": {
          "base_uri": "https://localhost:8080/",
          "height": 199
        },
        "outputId": "357673b2-6245-483a-d387-75692d40c548"
      },
      "source": [
        "df = pd.read_csv('PRSA_data.csv')\n",
        "\n",
        "df = df.drop(['Ir','No','Is'],axis = 1)\n",
        "\n",
        "#Changing the column names\n",
        "cnames = list(df.columns)\n",
        "\n",
        "#Drop the first row \n",
        "df = df[24:]\n",
        "\n",
        "df.dtypes\n",
        "\n",
        "df.reset_index(inplace = True)\n",
        "df = df.drop(['index'], axis = 1)\n",
        "\n",
        "df_new = df[['year', 'month', 'day', 'hour']]\n",
        "df_new['date'] = pd.to_datetime(df_new)\n",
        "\n",
        "df['date'] = df_new['date']\n",
        "\n",
        "#Set the date as Index\n",
        "df = df.set_index(df['date'],drop = False)\n",
        "df = df.sort_index()\n",
        "\n",
        "# df_cbwd = df['cbwd']\n",
        "# df_cbwd['cbwd_mode'] = df_cbwd.resample(\"d\").apply(lambda x: stats.mode(x)[0])\n",
        "\n",
        "# df = df.resample('d').mean()\n",
        "# df['cbwd'] = df_cbwd['cbwd_mode']\n",
        "\n",
        "df['day_of_week'] = df.index.dayofweek\n",
        "\n",
        "def weekend(row):\n",
        "    if (row == 5) or (row == 6):\n",
        "        return 1\n",
        "    else:\n",
        "        return 0\n",
        "\n",
        "df['weekend'] = df['day_of_week'].apply(weekend)\n",
        "\n",
        "\n",
        "mean = df['pm2.5'].min()\n",
        "std_dev = df['pm2.5'].max() - df['pm2.5'].min()\n",
        "\n",
        "for field in cnames:\n",
        "    print(field, df[field].isna().sum())\n",
        "\n",
        "df['pm2.5'] = df['pm2.5'].fillna(df['pm2.5'].mean())\n",
        "\n",
        "df = pd.get_dummies(df, columns = ['cbwd'] )    \n",
        "\n",
        "df['PM2.5'] = df['pm2.5']\n",
        "df = df.drop(['pm2.5'], axis = 1)\n",
        "\n",
        "df = df.drop(['hour', 'date'], axis = 1)\n",
        "\n",
        "cnames = list(df.columns)"
      ],
      "execution_count": 151,
      "outputs": [
        {
          "output_type": "stream",
          "text": [
            "year 0\n",
            "month 0\n",
            "day 0\n",
            "hour 0\n",
            "pm2.5 2043\n",
            "DEWP 0\n",
            "TEMP 0\n",
            "PRES 0\n",
            "cbwd 0\n",
            "Iws 0\n"
          ],
          "name": "stdout"
        }
      ]
    },
    {
      "cell_type": "code",
      "metadata": {
        "id": "MQFLDQejDY3X",
        "colab_type": "code",
        "colab": {
          "base_uri": "https://localhost:8080/",
          "height": 237
        },
        "outputId": "517ec452-ff99-4494-e437-ccac86e76a1e"
      },
      "source": [
        "df.head()"
      ],
      "execution_count": 152,
      "outputs": [
        {
          "output_type": "execute_result",
          "data": {
            "text/html": [
              "<div>\n",
              "<style scoped>\n",
              "    .dataframe tbody tr th:only-of-type {\n",
              "        vertical-align: middle;\n",
              "    }\n",
              "\n",
              "    .dataframe tbody tr th {\n",
              "        vertical-align: top;\n",
              "    }\n",
              "\n",
              "    .dataframe thead th {\n",
              "        text-align: right;\n",
              "    }\n",
              "</style>\n",
              "<table border=\"1\" class=\"dataframe\">\n",
              "  <thead>\n",
              "    <tr style=\"text-align: right;\">\n",
              "      <th></th>\n",
              "      <th>year</th>\n",
              "      <th>month</th>\n",
              "      <th>day</th>\n",
              "      <th>DEWP</th>\n",
              "      <th>TEMP</th>\n",
              "      <th>PRES</th>\n",
              "      <th>Iws</th>\n",
              "      <th>day_of_week</th>\n",
              "      <th>weekend</th>\n",
              "      <th>cbwd_NE</th>\n",
              "      <th>cbwd_NW</th>\n",
              "      <th>cbwd_SE</th>\n",
              "      <th>cbwd_cv</th>\n",
              "      <th>PM2.5</th>\n",
              "    </tr>\n",
              "    <tr>\n",
              "      <th>date</th>\n",
              "      <th></th>\n",
              "      <th></th>\n",
              "      <th></th>\n",
              "      <th></th>\n",
              "      <th></th>\n",
              "      <th></th>\n",
              "      <th></th>\n",
              "      <th></th>\n",
              "      <th></th>\n",
              "      <th></th>\n",
              "      <th></th>\n",
              "      <th></th>\n",
              "      <th></th>\n",
              "      <th></th>\n",
              "    </tr>\n",
              "  </thead>\n",
              "  <tbody>\n",
              "    <tr>\n",
              "      <th>2010-01-02 00:00:00</th>\n",
              "      <td>2010</td>\n",
              "      <td>1</td>\n",
              "      <td>2</td>\n",
              "      <td>-16</td>\n",
              "      <td>-4.0</td>\n",
              "      <td>1020.0</td>\n",
              "      <td>1.79</td>\n",
              "      <td>5</td>\n",
              "      <td>1</td>\n",
              "      <td>0</td>\n",
              "      <td>0</td>\n",
              "      <td>1</td>\n",
              "      <td>0</td>\n",
              "      <td>129.0</td>\n",
              "    </tr>\n",
              "    <tr>\n",
              "      <th>2010-01-02 01:00:00</th>\n",
              "      <td>2010</td>\n",
              "      <td>1</td>\n",
              "      <td>2</td>\n",
              "      <td>-15</td>\n",
              "      <td>-4.0</td>\n",
              "      <td>1020.0</td>\n",
              "      <td>2.68</td>\n",
              "      <td>5</td>\n",
              "      <td>1</td>\n",
              "      <td>0</td>\n",
              "      <td>0</td>\n",
              "      <td>1</td>\n",
              "      <td>0</td>\n",
              "      <td>148.0</td>\n",
              "    </tr>\n",
              "    <tr>\n",
              "      <th>2010-01-02 02:00:00</th>\n",
              "      <td>2010</td>\n",
              "      <td>1</td>\n",
              "      <td>2</td>\n",
              "      <td>-11</td>\n",
              "      <td>-5.0</td>\n",
              "      <td>1021.0</td>\n",
              "      <td>3.57</td>\n",
              "      <td>5</td>\n",
              "      <td>1</td>\n",
              "      <td>0</td>\n",
              "      <td>0</td>\n",
              "      <td>1</td>\n",
              "      <td>0</td>\n",
              "      <td>159.0</td>\n",
              "    </tr>\n",
              "    <tr>\n",
              "      <th>2010-01-02 03:00:00</th>\n",
              "      <td>2010</td>\n",
              "      <td>1</td>\n",
              "      <td>2</td>\n",
              "      <td>-7</td>\n",
              "      <td>-5.0</td>\n",
              "      <td>1022.0</td>\n",
              "      <td>5.36</td>\n",
              "      <td>5</td>\n",
              "      <td>1</td>\n",
              "      <td>0</td>\n",
              "      <td>0</td>\n",
              "      <td>1</td>\n",
              "      <td>0</td>\n",
              "      <td>181.0</td>\n",
              "    </tr>\n",
              "    <tr>\n",
              "      <th>2010-01-02 04:00:00</th>\n",
              "      <td>2010</td>\n",
              "      <td>1</td>\n",
              "      <td>2</td>\n",
              "      <td>-7</td>\n",
              "      <td>-5.0</td>\n",
              "      <td>1022.0</td>\n",
              "      <td>6.25</td>\n",
              "      <td>5</td>\n",
              "      <td>1</td>\n",
              "      <td>0</td>\n",
              "      <td>0</td>\n",
              "      <td>1</td>\n",
              "      <td>0</td>\n",
              "      <td>138.0</td>\n",
              "    </tr>\n",
              "  </tbody>\n",
              "</table>\n",
              "</div>"
            ],
            "text/plain": [
              "                     year  month  day  DEWP  ...  cbwd_NW  cbwd_SE  cbwd_cv  PM2.5\n",
              "date                                         ...                                  \n",
              "2010-01-02 00:00:00  2010      1    2   -16  ...        0        1        0  129.0\n",
              "2010-01-02 01:00:00  2010      1    2   -15  ...        0        1        0  148.0\n",
              "2010-01-02 02:00:00  2010      1    2   -11  ...        0        1        0  159.0\n",
              "2010-01-02 03:00:00  2010      1    2    -7  ...        0        1        0  181.0\n",
              "2010-01-02 04:00:00  2010      1    2    -7  ...        0        1        0  138.0\n",
              "\n",
              "[5 rows x 14 columns]"
            ]
          },
          "metadata": {
            "tags": []
          },
          "execution_count": 152
        }
      ]
    },
    {
      "cell_type": "code",
      "metadata": {
        "id": "epilIEuzkhhN",
        "colab_type": "code",
        "colab": {}
      },
      "source": [
        "df = df.resample('d').mean()"
      ],
      "execution_count": 153,
      "outputs": []
    },
    {
      "cell_type": "code",
      "metadata": {
        "id": "G1ibrB9gkm7P",
        "colab_type": "code",
        "colab": {
          "base_uri": "https://localhost:8080/",
          "height": 257
        },
        "outputId": "33c00783-ce46-48fe-ee4e-44a8bf8a6af1"
      },
      "source": [
        "df.head()"
      ],
      "execution_count": 154,
      "outputs": [
        {
          "output_type": "execute_result",
          "data": {
            "text/html": [
              "<div>\n",
              "<style scoped>\n",
              "    .dataframe tbody tr th:only-of-type {\n",
              "        vertical-align: middle;\n",
              "    }\n",
              "\n",
              "    .dataframe tbody tr th {\n",
              "        vertical-align: top;\n",
              "    }\n",
              "\n",
              "    .dataframe thead th {\n",
              "        text-align: right;\n",
              "    }\n",
              "</style>\n",
              "<table border=\"1\" class=\"dataframe\">\n",
              "  <thead>\n",
              "    <tr style=\"text-align: right;\">\n",
              "      <th></th>\n",
              "      <th>year</th>\n",
              "      <th>month</th>\n",
              "      <th>day</th>\n",
              "      <th>DEWP</th>\n",
              "      <th>TEMP</th>\n",
              "      <th>PRES</th>\n",
              "      <th>Iws</th>\n",
              "      <th>day_of_week</th>\n",
              "      <th>weekend</th>\n",
              "      <th>cbwd_NE</th>\n",
              "      <th>cbwd_NW</th>\n",
              "      <th>cbwd_SE</th>\n",
              "      <th>cbwd_cv</th>\n",
              "      <th>PM2.5</th>\n",
              "    </tr>\n",
              "    <tr>\n",
              "      <th>date</th>\n",
              "      <th></th>\n",
              "      <th></th>\n",
              "      <th></th>\n",
              "      <th></th>\n",
              "      <th></th>\n",
              "      <th></th>\n",
              "      <th></th>\n",
              "      <th></th>\n",
              "      <th></th>\n",
              "      <th></th>\n",
              "      <th></th>\n",
              "      <th></th>\n",
              "      <th></th>\n",
              "      <th></th>\n",
              "    </tr>\n",
              "  </thead>\n",
              "  <tbody>\n",
              "    <tr>\n",
              "      <th>2010-01-02</th>\n",
              "      <td>2010.0</td>\n",
              "      <td>1.0</td>\n",
              "      <td>2.0</td>\n",
              "      <td>-8.500000</td>\n",
              "      <td>-5.125000</td>\n",
              "      <td>1024.750000</td>\n",
              "      <td>24.860000</td>\n",
              "      <td>5.0</td>\n",
              "      <td>1.0</td>\n",
              "      <td>0.000</td>\n",
              "      <td>0.000000</td>\n",
              "      <td>1.00</td>\n",
              "      <td>0.000000</td>\n",
              "      <td>145.958333</td>\n",
              "    </tr>\n",
              "    <tr>\n",
              "      <th>2010-01-03</th>\n",
              "      <td>2010.0</td>\n",
              "      <td>1.0</td>\n",
              "      <td>3.0</td>\n",
              "      <td>-10.125000</td>\n",
              "      <td>-8.541667</td>\n",
              "      <td>1022.791667</td>\n",
              "      <td>70.937917</td>\n",
              "      <td>6.0</td>\n",
              "      <td>1.0</td>\n",
              "      <td>0.000</td>\n",
              "      <td>0.166667</td>\n",
              "      <td>0.75</td>\n",
              "      <td>0.083333</td>\n",
              "      <td>78.833333</td>\n",
              "    </tr>\n",
              "    <tr>\n",
              "      <th>2010-01-04</th>\n",
              "      <td>2010.0</td>\n",
              "      <td>1.0</td>\n",
              "      <td>4.0</td>\n",
              "      <td>-20.875000</td>\n",
              "      <td>-11.500000</td>\n",
              "      <td>1029.291667</td>\n",
              "      <td>111.160833</td>\n",
              "      <td>0.0</td>\n",
              "      <td>0.0</td>\n",
              "      <td>0.000</td>\n",
              "      <td>1.000000</td>\n",
              "      <td>0.00</td>\n",
              "      <td>0.000000</td>\n",
              "      <td>31.333333</td>\n",
              "    </tr>\n",
              "    <tr>\n",
              "      <th>2010-01-05</th>\n",
              "      <td>2010.0</td>\n",
              "      <td>1.0</td>\n",
              "      <td>5.0</td>\n",
              "      <td>-24.583333</td>\n",
              "      <td>-14.458333</td>\n",
              "      <td>1033.625000</td>\n",
              "      <td>56.920000</td>\n",
              "      <td>1.0</td>\n",
              "      <td>0.0</td>\n",
              "      <td>0.375</td>\n",
              "      <td>0.583333</td>\n",
              "      <td>0.00</td>\n",
              "      <td>0.041667</td>\n",
              "      <td>42.458333</td>\n",
              "    </tr>\n",
              "    <tr>\n",
              "      <th>2010-01-06</th>\n",
              "      <td>2010.0</td>\n",
              "      <td>1.0</td>\n",
              "      <td>6.0</td>\n",
              "      <td>-23.708333</td>\n",
              "      <td>-12.541667</td>\n",
              "      <td>1033.750000</td>\n",
              "      <td>18.511667</td>\n",
              "      <td>2.0</td>\n",
              "      <td>0.0</td>\n",
              "      <td>0.500</td>\n",
              "      <td>0.416667</td>\n",
              "      <td>0.00</td>\n",
              "      <td>0.083333</td>\n",
              "      <td>56.416667</td>\n",
              "    </tr>\n",
              "  </tbody>\n",
              "</table>\n",
              "</div>"
            ],
            "text/plain": [
              "              year  month  day  ...  cbwd_SE   cbwd_cv       PM2.5\n",
              "date                            ...                               \n",
              "2010-01-02  2010.0    1.0  2.0  ...     1.00  0.000000  145.958333\n",
              "2010-01-03  2010.0    1.0  3.0  ...     0.75  0.083333   78.833333\n",
              "2010-01-04  2010.0    1.0  4.0  ...     0.00  0.000000   31.333333\n",
              "2010-01-05  2010.0    1.0  5.0  ...     0.00  0.041667   42.458333\n",
              "2010-01-06  2010.0    1.0  6.0  ...     0.00  0.083333   56.416667\n",
              "\n",
              "[5 rows x 14 columns]"
            ]
          },
          "metadata": {
            "tags": []
          },
          "execution_count": 154
        }
      ]
    },
    {
      "cell_type": "code",
      "metadata": {
        "id": "cZtSCLENpMa7",
        "colab_type": "code",
        "colab": {}
      },
      "source": [
        "df = df.iloc[:-2,:]"
      ],
      "execution_count": 155,
      "outputs": []
    },
    {
      "cell_type": "code",
      "metadata": {
        "id": "XfAJjgjfzDeV",
        "colab_type": "code",
        "colab": {}
      },
      "source": [
        "def split_sequences(sequences, n_steps_in, n_steps_out):\n",
        "\tX, y = list(), list()\n",
        "\tfor i in range(len(sequences)):\n",
        "\t\t# find the end of this pattern\n",
        "\t\tend_ix = i + n_steps_in\n",
        "\t\tout_end_ix = end_ix + n_steps_out-1\n",
        "\t\t# check if we are beyond the dataset\n",
        "\t\tif out_end_ix > len(sequences):\n",
        "\t\t\tbreak\n",
        "\t\t# gather input and output parts of the pattern\n",
        "\t\tseq_x, seq_y = sequences[i:end_ix, :-1], sequences[end_ix-1:out_end_ix, -1]\n",
        "\t\tX.append(seq_x)\n",
        "\t\ty.append(seq_y)\n",
        "\treturn array(X), array(y)\n",
        "\n",
        "for field in cnames:\n",
        "\tdf[field] = (df[field] - df[field].min())/(df[field].max() - df[field].min())\n",
        "        \n",
        "\n",
        "# choose a number of time steps\n",
        "n_steps_in, n_steps_out = 15, 4\n",
        "\n",
        "X, y = split_sequences(df.values, n_steps_in, n_steps_out)\n",
        "\n",
        "X_test, y_test = X[-1], y[-1]\n",
        "\n",
        "for i in range(n_steps_out):\n",
        "\tX = np.delete(X, X.shape[0] - 1, 0)\n",
        "\ty = np.delete(y, y.shape[0] - 1, 0)\n",
        "\n",
        "n_features = X.shape[2]\n",
        "X_svr = X[:,:,0]"
      ],
      "execution_count": 156,
      "outputs": []
    },
    {
      "cell_type": "code",
      "metadata": {
        "id": "1j15rt8iTxL3",
        "colab_type": "code",
        "colab": {
          "base_uri": "https://localhost:8080/",
          "height": 108
        },
        "outputId": "5694cd32-6bf1-4bfe-e55f-d9654b93fec9"
      },
      "source": [
        "from sklearn.multioutput import MultiOutputRegressor\n",
        "from sklearn.ensemble import RandomForestRegressor\n",
        "from sklearn.svm import SVR\n",
        "\n",
        "# regr_multirf = MultiOutputRegressor(SVR(kernel='rbf'))\n",
        "\n",
        "regr_multirf = MultiOutputRegressor(estimator=SVR(C = 12.0, cache_size=200, coef0=0.0, degree=5,\n",
        "                                   epsilon=0.05, gamma= 'scale', kernel='rbf',\n",
        "                                   max_iter=-1, shrinking=True, tol=0.001,\n",
        "                                   verbose=False), n_jobs=None)\n",
        "regr_multirf.fit(X_svr, y)"
      ],
      "execution_count": 157,
      "outputs": [
        {
          "output_type": "execute_result",
          "data": {
            "text/plain": [
              "MultiOutputRegressor(estimator=SVR(C=12.0, cache_size=200, coef0=0.0, degree=5,\n",
              "                                   epsilon=0.05, gamma='scale', kernel='rbf',\n",
              "                                   max_iter=-1, shrinking=True, tol=0.001,\n",
              "                                   verbose=False),\n",
              "                     n_jobs=None)"
            ]
          },
          "metadata": {
            "tags": []
          },
          "execution_count": 157
        }
      ]
    },
    {
      "cell_type": "code",
      "metadata": {
        "id": "mcmNtBHcULm-",
        "colab_type": "code",
        "colab": {
          "base_uri": "https://localhost:8080/",
          "height": 35
        },
        "outputId": "84eb5e2d-5783-4279-a698-ee82ba1f6bf6"
      },
      "source": [
        "X_test.shape"
      ],
      "execution_count": 158,
      "outputs": [
        {
          "output_type": "execute_result",
          "data": {
            "text/plain": [
              "(15, 13)"
            ]
          },
          "metadata": {
            "tags": []
          },
          "execution_count": 158
        }
      ]
    },
    {
      "cell_type": "code",
      "metadata": {
        "id": "87sURxMzT7OX",
        "colab_type": "code",
        "colab": {}
      },
      "source": [
        "X_test = X_test.reshape((1, n_steps_in, n_features))\n",
        "X_test_new = X_test[:,:,0]\n",
        "yhat = regr_multirf.predict(X_test_new)"
      ],
      "execution_count": 159,
      "outputs": []
    },
    {
      "cell_type": "code",
      "metadata": {
        "id": "tMeYXuAQWJJR",
        "colab_type": "code",
        "colab": {
          "base_uri": "https://localhost:8080/",
          "height": 53
        },
        "outputId": "d8b29a85-0cfa-46a8-fff1-a9a364b00546"
      },
      "source": [
        "print(X_test_new.shape)\n",
        "print(yhat.shape)"
      ],
      "execution_count": 160,
      "outputs": [
        {
          "output_type": "stream",
          "text": [
            "(1, 15)\n",
            "(1, 4)\n"
          ],
          "name": "stdout"
        }
      ]
    },
    {
      "cell_type": "code",
      "metadata": {
        "id": "zfazcmC3UcnH",
        "colab_type": "code",
        "colab": {
          "base_uri": "https://localhost:8080/",
          "height": 53
        },
        "outputId": "c77b8203-76f5-4365-d425-edef3d082d7b"
      },
      "source": [
        "print(yhat.shape)\n",
        "print(y_test.shape)"
      ],
      "execution_count": 161,
      "outputs": [
        {
          "output_type": "stream",
          "text": [
            "(1, 4)\n",
            "(4,)\n"
          ],
          "name": "stdout"
        }
      ]
    },
    {
      "cell_type": "code",
      "metadata": {
        "id": "Ci99r1E6Uf5q",
        "colab_type": "code",
        "colab": {
          "base_uri": "https://localhost:8080/",
          "height": 35
        },
        "outputId": "12769f85-21ca-43e2-dfd9-6322d48326c6"
      },
      "source": [
        "X.shape"
      ],
      "execution_count": 162,
      "outputs": [
        {
          "output_type": "execute_result",
          "data": {
            "text/plain": [
              "(1802, 15, 13)"
            ]
          },
          "metadata": {
            "tags": []
          },
          "execution_count": 162
        }
      ]
    },
    {
      "cell_type": "code",
      "metadata": {
        "id": "qo6m7AlV1mze",
        "colab_type": "code",
        "colab": {
          "base_uri": "https://localhost:8080/",
          "height": 483
        },
        "outputId": "eebb4beb-9b15-45bd-84e8-4684e0a77997"
      },
      "source": [
        "#Setting default Plot Size\n",
        "from matplotlib.pylab import rcParams\n",
        "rcParams['figure.figsize'] = 15,8\n",
        "\n",
        "# fig, ax = plt.subplots()\n",
        "plt.plot((yhat[0]*std_dev)+mean, label = 'Predicted')\n",
        "plt.plot((y_test*std_dev)+mean, label = 'Original')\n",
        "plt.legend()\n",
        "plt.show()"
      ],
      "execution_count": 163,
      "outputs": [
        {
          "output_type": "display_data",
          "data": {
            "image/png": "[encoded data removed]",
            "text/plain": [
              "<Figure size 1080x576 with 1 Axes>"
            ]
          },
          "metadata": {
            "tags": [],
            "needs_background": "light"
          }
        }
      ]
    },
    {
      "cell_type": "code",
      "metadata": {
        "id": "qNt0U-_G1slC",
        "colab_type": "code",
        "colab": {}
      },
      "source": [
        "x_ann = []\n",
        "counter = 0\n",
        "for inp_val in X:\n",
        " x_input_ann = inp_val.reshape((1, n_steps_in,n_features))\n",
        " x_input_ann = x_input_ann[:,:,0]\n",
        " y_newpred = regr_multirf.predict(x_input_ann)\n",
        " x_ann.append(y_newpred)\n",
        " counter = counter + 1\n",
        " #print(counter)\n",
        "\n",
        "x_ann = array(x_ann)"
      ],
      "execution_count": 164,
      "outputs": []
    },
    {
      "cell_type": "code",
      "metadata": {
        "id": "P08nVYpB5_4p",
        "colab_type": "code",
        "colab": {}
      },
      "source": [
        "x_ann_new = x_ann[:, 0, :]\n",
        "x_ann_new.shape\n",
        "x_ann_new = x_ann_new.reshape(x_ann_new.shape[0], x_ann_new.shape[1], -1)\n",
        "y_new = y.reshape(y.shape[0], y.shape[1], -1)"
      ],
      "execution_count": 165,
      "outputs": []
    },
    {
      "cell_type": "code",
      "metadata": {
        "id": "-qtN1US_6GGw",
        "colab_type": "code",
        "colab": {}
      },
      "source": [
        "from numpy import array\n",
        "import numpy as np\n",
        "import pandas as pd\n",
        "from keras.models import Sequential\n",
        "from keras.layers import LSTM\n",
        "from keras.layers import Dense\n",
        "from keras.layers import RepeatVector\n",
        "from keras.layers import TimeDistributed\n",
        "from keras.utils import plot_model\n",
        "import matplotlib.pyplot as plt\n",
        "from datetime import datetime\n",
        "from tensorflow.keras.callbacks import EarlyStopping\n",
        "from keras.layers import Bidirectional\n",
        "from keras.layers import GRU"
      ],
      "execution_count": 166,
      "outputs": []
    },
    {
      "cell_type": "code",
      "metadata": {
        "id": "rLoAwCdK6JJJ",
        "colab_type": "code",
        "colab": {}
      },
      "source": [
        "model_auto = Sequential()\n",
        "model_auto.add(Bidirectional(GRU(100, activation='relu', input_shape=(x_ann_new.shape[1], x_ann_new.shape[2]),return_sequences=True)))\n",
        "model_auto.add(Bidirectional(GRU(50, activation='relu', return_sequences=True)))\n",
        "model_auto.add(Bidirectional(GRU(10, activation='relu')))\n",
        "model_auto.add(RepeatVector(x_ann_new.shape[1]))\n",
        "model_auto.add(Bidirectional(GRU(100, activation='relu', return_sequences=True)))\n",
        "model_auto.add(Bidirectional(GRU(50, activation='relu', return_sequences=True)))\n",
        "model_auto.add(Bidirectional(GRU(10, activation='relu', return_sequences=True)))\n",
        "model_auto.add(TimeDistributed(Dense(1)))\n",
        "model_auto.compile(optimizer='adam', loss='mse')"
      ],
      "execution_count": 167,
      "outputs": []
    },
    {
      "cell_type": "code",
      "metadata": {
        "id": "qZKkuihm6Sqc",
        "colab_type": "code",
        "colab": {
          "base_uri": "https://localhost:8080/",
          "height": 1000
        },
        "outputId": "b4df7de1-53d1-4fdf-fc55-3c5ab8636021"
      },
      "source": [
        "monitor = EarlyStopping(monitor='loss', min_delta=1e-3, patience=50, verbose=1, mode='auto',\n",
        "       restore_best_weights=True)\n",
        "model_auto.fit(x_ann_new, y_new, callbacks=[monitor], validation_split = 0.1, verbose=1, epochs=2000)\n",
        "#model_auto.save('Auto_improv.h5')"
      ],
      "execution_count": 168,
      "outputs": [
        {
          "output_type": "stream",
          "text": [
            "Train on 1621 samples, validate on 181 samples\n",
            "Epoch 1/2000\n",
            "1621/1621 [==============================] - 9s 6ms/step - loss: 0.0252 - val_loss: 0.0197\n",
            "Epoch 2/2000\n",
            "1621/1621 [==============================] - 2s 2ms/step - loss: 0.0204 - val_loss: 0.0210\n",
            "Epoch 3/2000\n",
            "1621/1621 [==============================] - 2s 1ms/step - loss: 0.0203 - val_loss: 0.0198\n",
            "Epoch 4/2000\n",
            "1621/1621 [==============================] - 2s 1ms/step - loss: 0.0200 - val_loss: 0.0195\n",
            "Epoch 5/2000\n",
            "1621/1621 [==============================] - 2s 1ms/step - loss: 0.0197 - val_loss: 0.0210\n",
            "Epoch 6/2000\n",
            "1621/1621 [==============================] - 2s 1ms/step - loss: 0.0198 - val_loss: 0.0194\n",
            "Epoch 7/2000\n",
            "1621/1621 [==============================] - 2s 1ms/step - loss: 0.0198 - val_loss: 0.0194\n",
            "Epoch 8/2000\n",
            "1621/1621 [==============================] - 2s 2ms/step - loss: 0.0197 - val_loss: 0.0195\n",
            "Epoch 9/2000\n",
            "1621/1621 [==============================] - 2s 1ms/step - loss: 0.0196 - val_loss: 0.0198\n",
            "Epoch 10/2000\n",
            "1621/1621 [==============================] - 2s 1ms/step - loss: 0.0197 - val_loss: 0.0195\n",
            "Epoch 11/2000\n",
            "1621/1621 [==============================] - 2s 1ms/step - loss: 0.0197 - val_loss: 0.0198\n",
            "Epoch 12/2000\n",
            "1621/1621 [==============================] - 2s 1ms/step - loss: 0.0196 - val_loss: 0.0199\n",
            "Epoch 13/2000\n",
            "1621/1621 [==============================] - 2s 1ms/step - loss: 0.0196 - val_loss: 0.0193\n",
            "Epoch 14/2000\n",
            "1621/1621 [==============================] - 2s 2ms/step - loss: 0.0197 - val_loss: 0.0193\n",
            "Epoch 15/2000\n",
            "1621/1621 [==============================] - 2s 1ms/step - loss: 0.0195 - val_loss: 0.0193\n",
            "Epoch 16/2000\n",
            "1621/1621 [==============================] - 2s 1ms/step - loss: 0.0195 - val_loss: 0.0194\n",
            "Epoch 17/2000\n",
            "1621/1621 [==============================] - 2s 1ms/step - loss: 0.0195 - val_loss: 0.0193\n",
            "Epoch 18/2000\n",
            "1621/1621 [==============================] - 2s 1ms/step - loss: 0.0195 - val_loss: 0.0193\n",
            "Epoch 19/2000\n",
            "1621/1621 [==============================] - 2s 2ms/step - loss: 0.0198 - val_loss: 0.0193\n",
            "Epoch 20/2000\n",
            "1621/1621 [==============================] - 2s 2ms/step - loss: 0.0197 - val_loss: 0.0197\n",
            "Epoch 21/2000\n",
            "1621/1621 [==============================] - 2s 2ms/step - loss: 0.0196 - val_loss: 0.0193\n",
            "Epoch 22/2000\n",
            "1621/1621 [==============================] - 2s 2ms/step - loss: 0.0195 - val_loss: 0.0195\n",
            "Epoch 23/2000\n",
            "1621/1621 [==============================] - 2s 1ms/step - loss: 0.0195 - val_loss: 0.0197\n",
            "Epoch 24/2000\n",
            "1621/1621 [==============================] - 2s 2ms/step - loss: 0.0194 - val_loss: 0.0193\n",
            "Epoch 25/2000\n",
            "1621/1621 [==============================] - 2s 1ms/step - loss: 0.0193 - val_loss: 0.0198\n",
            "Epoch 26/2000\n",
            "1621/1621 [==============================] - 2s 2ms/step - loss: 0.0194 - val_loss: 0.0196\n",
            "Epoch 27/2000\n",
            "1621/1621 [==============================] - 2s 1ms/step - loss: 0.0194 - val_loss: 0.0198\n",
            "Epoch 28/2000\n",
            "1621/1621 [==============================] - 2s 1ms/step - loss: 0.0194 - val_loss: 0.0194\n",
            "Epoch 29/2000\n",
            "1621/1621 [==============================] - 2s 1ms/step - loss: 0.0194 - val_loss: 0.0196\n",
            "Epoch 30/2000\n",
            "1621/1621 [==============================] - 2s 1ms/step - loss: 0.0194 - val_loss: 0.0196\n",
            "Epoch 31/2000\n",
            "1621/1621 [==============================] - 2s 2ms/step - loss: 0.0195 - val_loss: 0.0198\n",
            "Epoch 32/2000\n",
            "1621/1621 [==============================] - 2s 1ms/step - loss: 0.0193 - val_loss: 0.0196\n",
            "Epoch 33/2000\n",
            "1621/1621 [==============================] - 2s 1ms/step - loss: 0.0193 - val_loss: 0.0194\n",
            "Epoch 34/2000\n",
            "1621/1621 [==============================] - 2s 1ms/step - loss: 0.0193 - val_loss: 0.0197\n",
            "Epoch 35/2000\n",
            "1621/1621 [==============================] - 2s 1ms/step - loss: 0.0193 - val_loss: 0.0193\n",
            "Epoch 36/2000\n",
            "1621/1621 [==============================] - 2s 1ms/step - loss: 0.0194 - val_loss: 0.0193\n",
            "Epoch 37/2000\n",
            "1621/1621 [==============================] - 2s 1ms/step - loss: 0.0193 - val_loss: 0.0200\n",
            "Epoch 38/2000\n",
            "1621/1621 [==============================] - 2s 1ms/step - loss: 0.0193 - val_loss: 0.0200\n",
            "Epoch 39/2000\n",
            "1621/1621 [==============================] - 2s 1ms/step - loss: 0.0193 - val_loss: 0.0194\n",
            "Epoch 40/2000\n",
            "1621/1621 [==============================] - 2s 2ms/step - loss: 0.0193 - val_loss: 0.0193\n",
            "Epoch 41/2000\n",
            "1621/1621 [==============================] - 2s 1ms/step - loss: 0.0195 - val_loss: 0.0195\n",
            "Epoch 42/2000\n",
            "1621/1621 [==============================] - 2s 1ms/step - loss: 0.0193 - val_loss: 0.0198\n",
            "Epoch 43/2000\n",
            "1621/1621 [==============================] - 2s 1ms/step - loss: 0.0194 - val_loss: 0.0196\n",
            "Epoch 44/2000\n",
            "1621/1621 [==============================] - 2s 1ms/step - loss: 0.0192 - val_loss: 0.0196\n",
            "Epoch 45/2000\n",
            "1621/1621 [==============================] - 2s 1ms/step - loss: 0.0192 - val_loss: 0.0195\n",
            "Epoch 46/2000\n",
            "1621/1621 [==============================] - 2s 1ms/step - loss: 0.0193 - val_loss: 0.0193\n",
            "Epoch 47/2000\n",
            "1621/1621 [==============================] - 2s 1ms/step - loss: 0.0192 - val_loss: 0.0194\n",
            "Epoch 48/2000\n",
            "1621/1621 [==============================] - 2s 1ms/step - loss: 0.0192 - val_loss: 0.0195\n",
            "Epoch 49/2000\n",
            "1621/1621 [==============================] - 2s 1ms/step - loss: 0.0192 - val_loss: 0.0195\n",
            "Epoch 50/2000\n",
            "1621/1621 [==============================] - 2s 1ms/step - loss: 0.0193 - val_loss: 0.0199\n",
            "Epoch 51/2000\n",
            "1621/1621 [==============================] - 2s 1ms/step - loss: 0.0193 - val_loss: 0.0193\n",
            "Epoch 52/2000\n",
            "1621/1621 [==============================] - 2s 1ms/step - loss: 0.0192 - val_loss: 0.0195\n",
            "Epoch 53/2000\n",
            "1621/1621 [==============================] - 2s 1ms/step - loss: 0.0193 - val_loss: 0.0194\n",
            "Epoch 54/2000\n",
            "1621/1621 [==============================] - 2s 1ms/step - loss: 0.0194 - val_loss: 0.0197\n",
            "Epoch 55/2000\n",
            "1621/1621 [==============================] - 2s 1ms/step - loss: 0.0192 - val_loss: 0.0201\n",
            "Epoch 56/2000\n",
            "1621/1621 [==============================] - 2s 1ms/step - loss: 0.0194 - val_loss: 0.0194\n",
            "Epoch 57/2000\n",
            "1621/1621 [==============================] - 2s 1ms/step - loss: 0.0194 - val_loss: 0.0197\n",
            "Epoch 58/2000\n",
            "1621/1621 [==============================] - 2s 1ms/step - loss: 0.0195 - val_loss: 0.0200\n",
            "Epoch 59/2000\n",
            "1621/1621 [==============================] - 2s 1ms/step - loss: 0.0196 - val_loss: 0.0194\n",
            "Epoch 60/2000\n",
            "1621/1621 [==============================] - 2s 1ms/step - loss: 0.0193 - val_loss: 0.0194\n",
            "Epoch 61/2000\n",
            "1621/1621 [==============================] - 2s 1ms/step - loss: 0.0193 - val_loss: 0.0198\n",
            "Epoch 62/2000\n",
            "1621/1621 [==============================] - 2s 1ms/step - loss: 0.0193 - val_loss: 0.0194\n",
            "Epoch 63/2000\n",
            "1621/1621 [==============================] - 2s 1ms/step - loss: 0.0192 - val_loss: 0.0193\n",
            "Epoch 64/2000\n",
            "1621/1621 [==============================] - 2s 1ms/step - loss: 0.0192 - val_loss: 0.0198\n",
            "Epoch 65/2000\n",
            "1621/1621 [==============================] - 2s 1ms/step - loss: 0.0192 - val_loss: 0.0195\n",
            "Epoch 66/2000\n",
            "1621/1621 [==============================] - 2s 1ms/step - loss: 0.0192 - val_loss: 0.0196\n",
            "Epoch 67/2000\n",
            "1621/1621 [==============================] - 2s 1ms/step - loss: 0.0193 - val_loss: 0.0196\n",
            "Epoch 68/2000\n",
            "1621/1621 [==============================] - 2s 1ms/step - loss: 0.0192 - val_loss: 0.0201\n",
            "Epoch 69/2000\n",
            "1621/1621 [==============================] - 2s 1ms/step - loss: 0.0193 - val_loss: 0.0197\n",
            "Epoch 70/2000\n",
            "1621/1621 [==============================] - 2s 1ms/step - loss: 0.0192 - val_loss: 0.0197\n",
            "Epoch 71/2000\n",
            "1621/1621 [==============================] - 2s 1ms/step - loss: 0.0193 - val_loss: 0.0195\n",
            "Epoch 72/2000\n",
            "1621/1621 [==============================] - 2s 1ms/step - loss: 0.0198 - val_loss: 0.0195\n",
            "Epoch 73/2000\n",
            "1621/1621 [==============================] - 2s 1ms/step - loss: 0.0193 - val_loss: 0.0199\n",
            "Epoch 74/2000\n",
            "1621/1621 [==============================] - 2s 1ms/step - loss: 0.0193 - val_loss: 0.0199\n",
            "Epoch 75/2000\n",
            "1621/1621 [==============================] - 2s 2ms/step - loss: 0.0193 - val_loss: 0.0193\n",
            "Restoring model weights from the end of the best epoch.\n",
            "Epoch 00075: early stopping\n"
          ],
          "name": "stdout"
        },
        {
          "output_type": "execute_result",
          "data": {
            "text/plain": [
              "<keras.callbacks.callbacks.History at 0x7fd220a6da58>"
            ]
          },
          "metadata": {
            "tags": []
          },
          "execution_count": 168
        }
      ]
    },
    {
      "cell_type": "code",
      "metadata": {
        "id": "ymFLwimI6e28",
        "colab_type": "code",
        "colab": {}
      },
      "source": [
        "y_test_new = y_test.reshape(y_test.shape[0], -1)\n"
      ],
      "execution_count": 169,
      "outputs": []
    },
    {
      "cell_type": "code",
      "metadata": {
        "id": "_j3yAYTa-9XT",
        "colab_type": "code",
        "colab": {
          "base_uri": "https://localhost:8080/",
          "height": 53
        },
        "outputId": "05971158-e21e-4054-983e-b469ebd23641"
      },
      "source": [
        "y_test_new = y_test_new.T\n",
        "y_test_new = y_test_new.reshape(y_test_new.shape[0], y_test_new.shape[1], -1)\n",
        "print(y_test_new.shape)\n",
        "x_ann_new_input = array(y_test_new)\n",
        "yhat_new = model_auto.predict(x_ann_new_input, verbose=1)\n"
      ],
      "execution_count": 170,
      "outputs": [
        {
          "output_type": "stream",
          "text": [
            "(1, 4, 1)\n",
            "1/1 [==============================] - 1s 602ms/step\n"
          ],
          "name": "stdout"
        }
      ]
    },
    {
      "cell_type": "code",
      "metadata": {
        "id": "ELsOO28a_Ctj",
        "colab_type": "code",
        "colab": {
          "base_uri": "https://localhost:8080/",
          "height": 53
        },
        "outputId": "b648c746-4e05-4798-fc4b-d52a8c62f284"
      },
      "source": [
        "print(yhat_new.shape)\n",
        "print(y_test_new.shape)\n"
      ],
      "execution_count": 171,
      "outputs": [
        {
          "output_type": "stream",
          "text": [
            "(1, 4, 1)\n",
            "(1, 4, 1)\n"
          ],
          "name": "stdout"
        }
      ]
    },
    {
      "cell_type": "code",
      "metadata": {
        "id": "4LM4sgBc_Em6",
        "colab_type": "code",
        "colab": {}
      },
      "source": [
        "y_test_new_actual = (y_test_new[0]*std_dev)+mean\n",
        "yhat_predicted = (yhat_new[0]*std_dev)+mean\n"
      ],
      "execution_count": 172,
      "outputs": []
    },
    {
      "cell_type": "code",
      "metadata": {
        "id": "zGatsaN9_JHy",
        "colab_type": "code",
        "colab": {
          "base_uri": "https://localhost:8080/",
          "height": 162
        },
        "outputId": "3ae76cb3-3f6c-4c27-f162-206d302b7509"
      },
      "source": [
        "print(yhat_predicted)\n",
        "print(y_test_new_actual)\n"
      ],
      "execution_count": 173,
      "outputs": [
        {
          "output_type": "stream",
          "text": [
            "[[405.22946]\n",
            " [382.93307]\n",
            " [364.14886]\n",
            " [341.4311 ]]\n",
            "[[313.39075108]\n",
            " [441.55703085]\n",
            " [364.20454409]\n",
            " [292.31590605]]\n"
          ],
          "name": "stdout"
        }
      ]
    },
    {
      "cell_type": "code",
      "metadata": {
        "id": "du0btTR6_LAj",
        "colab_type": "code",
        "colab": {
          "base_uri": "https://localhost:8080/",
          "height": 505
        },
        "outputId": "fba84214-08d5-431f-be3d-53f55c60acae"
      },
      "source": [
        "plt.plot((yhat_predicted),label = 'Predicted', linewidth = 3)\n",
        "plt.plot((y_test_new_actual), label = 'Actual', linewidth = 3)\n",
        "plt.xlabel('Time (in days)', fontsize = 'xx-large', fontweight = 'bold')\n",
        "plt.ylabel('PM10 (in µg/m3)', fontsize = 'xx-large', fontweight = 'bold')\n",
        "plt.legend(prop = {'size': 16})\n",
        "plt.show()"
      ],
      "execution_count": 174,
      "outputs": [
        {
          "output_type": "display_data",
          "data": {
            "image/png": "[encoded data removed]",
            "text/plain": [
              "<Figure size 1080x576 with 1 Axes>"
            ]
          },
          "metadata": {
            "tags": [],
            "needs_background": "light"
          }
        }
      ]
    },
    {
      "cell_type": "code",
      "metadata": {
        "id": "W0j9eCxj_NVi",
        "colab_type": "code",
        "colab": {
          "base_uri": "https://localhost:8080/",
          "height": 90
        },
        "outputId": "3cb2b473-2082-4159-d917-c8c53f0b5908"
      },
      "source": [
        "from sklearn.metrics import mean_squared_error\n",
        "from sklearn.metrics import mean_absolute_error\n",
        "from math import sqrt\n",
        "def mean_absolute_percentage_error(y_true, y_pred): \n",
        "   return np.mean(np.abs((y_true - y_pred) / y_true)) * 100\n",
        "\n",
        "\n",
        "rms_new = sqrt(mean_squared_error(y_test_new_actual, yhat_predicted))\n",
        "print(rms_new)\n",
        "\n",
        "mse_new = mean_squared_error(y_test_new_actual, yhat_predicted)\n",
        "print(mse_new)\n",
        "\n",
        "mae_new = mean_absolute_error(y_test_new_actual, yhat_predicted)\n",
        "print(mae_new)\n",
        "\n",
        "mape_new = mean_absolute_percentage_error(y_test_new_actual, yhat_predicted)\n",
        "print(mape_new)"
      ],
      "execution_count": 175,
      "outputs": [
        {
          "output_type": "stream",
          "text": [
            "59.75663455052569\n",
            "3570.85537280508\n",
            "49.908382773222584\n",
            "14.849720024029223\n"
          ],
          "name": "stdout"
        }
      ]
    },
    {
      "cell_type": "code",
      "metadata": {
        "id": "48JC3WakuzBK",
        "colab_type": "code",
        "colab": {}
      },
      "source": [
        ""
      ],
      "execution_count": 175,
      "outputs": []
    }
  ]
}